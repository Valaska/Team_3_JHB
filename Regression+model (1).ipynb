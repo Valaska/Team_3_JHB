{
 "cells": [
  {
   "cell_type": "code",
   "execution_count": 1,
   "metadata": {
    "collapsed": true
   },
   "outputs": [],
   "source": [
    "import numpy as np\n",
    "import pandas as pd\n",
    "import seaborn as sns\n",
    "import matplotlib.pyplot as plt\n"
   ]
  },
  {
   "cell_type": "code",
   "execution_count": 3,
   "metadata": {
    "collapsed": true
   },
   "outputs": [],
   "source": [
    "train = pd.read_csv('https://raw.githubusercontent.com/Valaska/Team_3_JHB/master/regression_dataset/Train.csv')\n",
    "test = pd.read_csv('https://raw.githubusercontent.com/Valaska/Team_3_JHB/master/regression_dataset/Test.csv')\n",
    "riders = pd.read_csv('https://raw.githubusercontent.com/Valaska/Team_3_JHB/master/regression_dataset/Riders.csv')\n",
    "train_data = pd.merge(train, riders, how='inner', on='Rider Id')\n",
    "test_data = pd.merge(test, riders, how = 'inner', on= 'Rider Id')"
   ]
  },
  {
   "cell_type": "code",
   "execution_count": 4,
   "metadata": {},
   "outputs": [],
   "source": [
    "train_copy = train_data.copy()\n",
    "test_copy = test_data.copy()"
   ]
  },
  {
   "cell_type": "code",
   "execution_count": 5,
   "metadata": {},
   "outputs": [],
   "source": [
    "train_copy.drop(['Order No', 'User Id', 'Vehicle Type'], axis = 1, inplace = True)\n",
    "test_copy.drop(['Order No', 'User Id', 'Vehicle Type'], axis = 1, inplace = True)"
   ]
  },
  {
   "cell_type": "code",
   "execution_count": 6,
   "metadata": {},
   "outputs": [],
   "source": [
    "from sklearn.preprocessing import LabelEncoder\n",
    "le = LabelEncoder()\n",
    "train_copy['Personal or Business'] = le.fit_transform(train_copy['Personal or Business'])\n",
    "test_copy['Personal or Business'] = le.transform(test_copy['Personal or Business'])"
   ]
  },
  {
   "cell_type": "code",
   "execution_count": 7,
   "metadata": {},
   "outputs": [],
   "source": [
    "train_copy['Precipitation in millimeters'].fillna(value=0, inplace=True)\n",
    "test_copy['Precipitation in millimeters'].fillna(value=0, inplace=True)"
   ]
  },
  {
   "cell_type": "code",
   "execution_count": 8,
   "metadata": {},
   "outputs": [],
   "source": [
    "from sklearn.impute import SimpleImputer\n",
    "\n",
    "from sklearn.impute import SimpleImputer \n",
    "imputer = SimpleImputer(missing_values=np.nan, strategy='mean')\n",
    "\n",
    "\n",
    "imputer.fit(train_copy[[\"Temperature\"]])\n",
    "imputer.fit(test_copy[[\"Temperature\"]])\n",
    "train_copy[\"Temperature\"]=imputer.transform(train_copy[[\"Temperature\"]]).ravel()\n",
    "test_copy[\"Temperature\"]=imputer.transform(test_copy[[\"Temperature\"]]).ravel()\n"
   ]
  },
  {
   "cell_type": "code",
   "execution_count": 9,
   "metadata": {},
   "outputs": [],
   "source": [
    "def change_time(df, col):\n",
    "    \n",
    "    df['timestampx'] = pd.to_datetime(df[col], format='%I:%M:%S %p')\n",
    "        \n",
    "    a = []\n",
    "    for i in df['timestampx']:\n",
    "        a.append(i.time().strftime('%H:%M:%S'))\n",
    "    df[col] = pd.DataFrame(a)\n",
    "    df.drop('timestampx', axis = 1, inplace = True)\n",
    "    \n",
    "    return df"
   ]
  },
  {
   "cell_type": "code",
   "execution_count": 10,
   "metadata": {},
   "outputs": [
    {
     "output_type": "execute_result",
     "data": {
      "text/plain": "      Platform Type  Personal or Business  Placement - Day of Month  \\\n0                 3                     0                        27   \n1                 1                     1                        26   \n2                 3                     0                        29   \n3                 3                     0                         2   \n4                 3                     0                        14   \n...             ...                   ...                       ...   \n7063              3                     0                         8   \n7064              3                     0                         9   \n7065              3                     0                        31   \n7066              3                     0                        11   \n7067              3                     0                        27   \n\n      Placement - Weekday (Mo = 1) Placement - Time  \\\n0                                3         16:44:10   \n1                                2         14:43:21   \n2                                5         11:55:05   \n3                                1         09:23:21   \n4                                4         12:55:59   \n...                            ...              ...   \n7063                             5         12:56:22   \n7064                             3         15:08:38   \n7065                             5         13:25:34   \n7066                             1         08:55:12   \n7067                             6         12:50:14   \n\n      Confirmation - Day of Month  Confirmation - Weekday (Mo = 1)  \\\n0                              27                                3   \n1                              26                                2   \n2                              29                                5   \n3                               2                                1   \n4                              14                                4   \n...                           ...                              ...   \n7063                            8                                5   \n7064                            9                                3   \n7065                           31                                5   \n7066                           11                                1   \n7067                           27                                6   \n\n     Confirmation - Time  Arrival at Pickup - Day of Month  \\\n0               16:44:29                                27   \n1               14:47:16                                26   \n2               11:58:12                                29   \n3               09:23:44                                 2   \n4               13:22:44                                14   \n...                  ...                               ...   \n7063            13:43:10                                 8   \n7064            15:17:47                                 9   \n7065            13:32:50                                31   \n7066            08:55:46                                11   \n7067            12:50:58                                27   \n\n      Arrival at Pickup - Weekday (Mo = 1)  ... Precipitation in millimeters  \\\n0                                        3  ...                          0.0   \n1                                        2  ...                          0.0   \n2                                        5  ...                          0.0   \n3                                        1  ...                          0.0   \n4                                        4  ...                          0.0   \n...                                    ...  ...                          ...   \n7063                                     5  ...                          0.0   \n7064                                     3  ...                          0.0   \n7065                                     5  ...                          0.0   \n7066                                     1  ...                          0.0   \n7067                                     6  ...                          0.0   \n\n      Pickup Lat  Pickup Long Destination Lat  Destination Long      Rider Id  \\\n0      -1.333275    36.870815       -1.305249         36.822390  Rider_Id_192   \n1      -1.312745    36.875715       -1.288435         36.760677  Rider_Id_192   \n2      -1.255189    36.782203       -1.293393         36.790237  Rider_Id_192   \n3      -1.310451    36.868724       -1.259542         36.787118  Rider_Id_192   \n4      -1.333275    36.870815       -1.255189         36.782203  Rider_Id_192   \n...          ...          ...             ...               ...           ...   \n7063   -1.300921    36.828195       -1.272807         36.796236  Rider_Id_738   \n7064   -1.316959    36.700003       -1.276574         36.851365  Rider_Id_443   \n7065   -1.303596    36.778378       -1.330611         36.848052  Rider_Id_176   \n7066   -1.300921    36.828195       -1.319862         36.711032  Rider_Id_181   \n7067   -1.284467    36.786611       -1.296974         36.785661  Rider_Id_284   \n\n      No_Of_Orders   Age  Average_Rating  No_of_Ratings  \n0              439  1511            13.3            171  \n1              439  1511            13.3            171  \n2              439  1511            13.3            171  \n3              439  1511            13.3            171  \n4              439  1511            13.3            171  \n...            ...   ...             ...            ...  \n7063          2849  2506            14.2            427  \n7064          3504  2234            14.6           1086  \n7065           417   136            12.8             34  \n7066            34   291            15.0              5  \n7067          2931  1170            14.2            586  \n\n[7068 rows x 26 columns]",
      "text/html": "<div>\n<style scoped>\n    .dataframe tbody tr th:only-of-type {\n        vertical-align: middle;\n    }\n\n    .dataframe tbody tr th {\n        vertical-align: top;\n    }\n\n    .dataframe thead th {\n        text-align: right;\n    }\n</style>\n<table border=\"1\" class=\"dataframe\">\n  <thead>\n    <tr style=\"text-align: right;\">\n      <th></th>\n      <th>Platform Type</th>\n      <th>Personal or Business</th>\n      <th>Placement - Day of Month</th>\n      <th>Placement - Weekday (Mo = 1)</th>\n      <th>Placement - Time</th>\n      <th>Confirmation - Day of Month</th>\n      <th>Confirmation - Weekday (Mo = 1)</th>\n      <th>Confirmation - Time</th>\n      <th>Arrival at Pickup - Day of Month</th>\n      <th>Arrival at Pickup - Weekday (Mo = 1)</th>\n      <th>...</th>\n      <th>Precipitation in millimeters</th>\n      <th>Pickup Lat</th>\n      <th>Pickup Long</th>\n      <th>Destination Lat</th>\n      <th>Destination Long</th>\n      <th>Rider Id</th>\n      <th>No_Of_Orders</th>\n      <th>Age</th>\n      <th>Average_Rating</th>\n      <th>No_of_Ratings</th>\n    </tr>\n  </thead>\n  <tbody>\n    <tr>\n      <th>0</th>\n      <td>3</td>\n      <td>0</td>\n      <td>27</td>\n      <td>3</td>\n      <td>16:44:10</td>\n      <td>27</td>\n      <td>3</td>\n      <td>16:44:29</td>\n      <td>27</td>\n      <td>3</td>\n      <td>...</td>\n      <td>0.0</td>\n      <td>-1.333275</td>\n      <td>36.870815</td>\n      <td>-1.305249</td>\n      <td>36.822390</td>\n      <td>Rider_Id_192</td>\n      <td>439</td>\n      <td>1511</td>\n      <td>13.3</td>\n      <td>171</td>\n    </tr>\n    <tr>\n      <th>1</th>\n      <td>1</td>\n      <td>1</td>\n      <td>26</td>\n      <td>2</td>\n      <td>14:43:21</td>\n      <td>26</td>\n      <td>2</td>\n      <td>14:47:16</td>\n      <td>26</td>\n      <td>2</td>\n      <td>...</td>\n      <td>0.0</td>\n      <td>-1.312745</td>\n      <td>36.875715</td>\n      <td>-1.288435</td>\n      <td>36.760677</td>\n      <td>Rider_Id_192</td>\n      <td>439</td>\n      <td>1511</td>\n      <td>13.3</td>\n      <td>171</td>\n    </tr>\n    <tr>\n      <th>2</th>\n      <td>3</td>\n      <td>0</td>\n      <td>29</td>\n      <td>5</td>\n      <td>11:55:05</td>\n      <td>29</td>\n      <td>5</td>\n      <td>11:58:12</td>\n      <td>29</td>\n      <td>5</td>\n      <td>...</td>\n      <td>0.0</td>\n      <td>-1.255189</td>\n      <td>36.782203</td>\n      <td>-1.293393</td>\n      <td>36.790237</td>\n      <td>Rider_Id_192</td>\n      <td>439</td>\n      <td>1511</td>\n      <td>13.3</td>\n      <td>171</td>\n    </tr>\n    <tr>\n      <th>3</th>\n      <td>3</td>\n      <td>0</td>\n      <td>2</td>\n      <td>1</td>\n      <td>09:23:21</td>\n      <td>2</td>\n      <td>1</td>\n      <td>09:23:44</td>\n      <td>2</td>\n      <td>1</td>\n      <td>...</td>\n      <td>0.0</td>\n      <td>-1.310451</td>\n      <td>36.868724</td>\n      <td>-1.259542</td>\n      <td>36.787118</td>\n      <td>Rider_Id_192</td>\n      <td>439</td>\n      <td>1511</td>\n      <td>13.3</td>\n      <td>171</td>\n    </tr>\n    <tr>\n      <th>4</th>\n      <td>3</td>\n      <td>0</td>\n      <td>14</td>\n      <td>4</td>\n      <td>12:55:59</td>\n      <td>14</td>\n      <td>4</td>\n      <td>13:22:44</td>\n      <td>14</td>\n      <td>4</td>\n      <td>...</td>\n      <td>0.0</td>\n      <td>-1.333275</td>\n      <td>36.870815</td>\n      <td>-1.255189</td>\n      <td>36.782203</td>\n      <td>Rider_Id_192</td>\n      <td>439</td>\n      <td>1511</td>\n      <td>13.3</td>\n      <td>171</td>\n    </tr>\n    <tr>\n      <th>...</th>\n      <td>...</td>\n      <td>...</td>\n      <td>...</td>\n      <td>...</td>\n      <td>...</td>\n      <td>...</td>\n      <td>...</td>\n      <td>...</td>\n      <td>...</td>\n      <td>...</td>\n      <td>...</td>\n      <td>...</td>\n      <td>...</td>\n      <td>...</td>\n      <td>...</td>\n      <td>...</td>\n      <td>...</td>\n      <td>...</td>\n      <td>...</td>\n      <td>...</td>\n      <td>...</td>\n    </tr>\n    <tr>\n      <th>7063</th>\n      <td>3</td>\n      <td>0</td>\n      <td>8</td>\n      <td>5</td>\n      <td>12:56:22</td>\n      <td>8</td>\n      <td>5</td>\n      <td>13:43:10</td>\n      <td>8</td>\n      <td>5</td>\n      <td>...</td>\n      <td>0.0</td>\n      <td>-1.300921</td>\n      <td>36.828195</td>\n      <td>-1.272807</td>\n      <td>36.796236</td>\n      <td>Rider_Id_738</td>\n      <td>2849</td>\n      <td>2506</td>\n      <td>14.2</td>\n      <td>427</td>\n    </tr>\n    <tr>\n      <th>7064</th>\n      <td>3</td>\n      <td>0</td>\n      <td>9</td>\n      <td>3</td>\n      <td>15:08:38</td>\n      <td>9</td>\n      <td>3</td>\n      <td>15:17:47</td>\n      <td>9</td>\n      <td>3</td>\n      <td>...</td>\n      <td>0.0</td>\n      <td>-1.316959</td>\n      <td>36.700003</td>\n      <td>-1.276574</td>\n      <td>36.851365</td>\n      <td>Rider_Id_443</td>\n      <td>3504</td>\n      <td>2234</td>\n      <td>14.6</td>\n      <td>1086</td>\n    </tr>\n    <tr>\n      <th>7065</th>\n      <td>3</td>\n      <td>0</td>\n      <td>31</td>\n      <td>5</td>\n      <td>13:25:34</td>\n      <td>31</td>\n      <td>5</td>\n      <td>13:32:50</td>\n      <td>31</td>\n      <td>5</td>\n      <td>...</td>\n      <td>0.0</td>\n      <td>-1.303596</td>\n      <td>36.778378</td>\n      <td>-1.330611</td>\n      <td>36.848052</td>\n      <td>Rider_Id_176</td>\n      <td>417</td>\n      <td>136</td>\n      <td>12.8</td>\n      <td>34</td>\n    </tr>\n    <tr>\n      <th>7066</th>\n      <td>3</td>\n      <td>0</td>\n      <td>11</td>\n      <td>1</td>\n      <td>08:55:12</td>\n      <td>11</td>\n      <td>1</td>\n      <td>08:55:46</td>\n      <td>11</td>\n      <td>1</td>\n      <td>...</td>\n      <td>0.0</td>\n      <td>-1.300921</td>\n      <td>36.828195</td>\n      <td>-1.319862</td>\n      <td>36.711032</td>\n      <td>Rider_Id_181</td>\n      <td>34</td>\n      <td>291</td>\n      <td>15.0</td>\n      <td>5</td>\n    </tr>\n    <tr>\n      <th>7067</th>\n      <td>3</td>\n      <td>0</td>\n      <td>27</td>\n      <td>6</td>\n      <td>12:50:14</td>\n      <td>27</td>\n      <td>6</td>\n      <td>12:50:58</td>\n      <td>27</td>\n      <td>6</td>\n      <td>...</td>\n      <td>0.0</td>\n      <td>-1.284467</td>\n      <td>36.786611</td>\n      <td>-1.296974</td>\n      <td>36.785661</td>\n      <td>Rider_Id_284</td>\n      <td>2931</td>\n      <td>1170</td>\n      <td>14.2</td>\n      <td>586</td>\n    </tr>\n  </tbody>\n</table>\n<p>7068 rows × 26 columns</p>\n</div>"
     },
     "metadata": {},
     "execution_count": 10
    }
   ],
   "source": [
    "change_time(train_copy, 'Placement - Time')\n",
    "change_time(train_copy, 'Confirmation - Time')\n",
    "change_time(train_copy, 'Arrival at Destination - Time')\n",
    "change_time(train_copy, 'Pickup - Time')\n",
    "change_time(train_copy, 'Arrival at Pickup - Time')\n",
    "change_time(test_copy, 'Arrival at Pickup - Time')\n",
    "change_time(test_copy, 'Placement - Time')\n",
    "change_time(test_copy, 'Confirmation - Time')\n",
    "change_time(test_copy, 'Pickup - Time')"
   ]
  },
  {
   "cell_type": "code",
   "execution_count": 11,
   "metadata": {},
   "outputs": [],
   "source": [
    "train_copy['Placement - Time'] = pd.to_timedelta(train_copy['Placement - Time'])\n",
    "train_copy['Placement - Time'] = train_copy['Placement - Time'] / pd.offsets.Minute(60)\n",
    "train_copy['Confirmation - Time'] = pd.to_timedelta(train_copy['Confirmation - Time'])\n",
    "train_copy['Confirmation - Time'] = train_copy['Confirmation - Time'] / pd.offsets.Minute(60)\n",
    "train_copy['Arrival at Destination - Time'] = pd.to_timedelta(train_copy['Arrival at Destination - Time'])\n",
    "train_copy['Arrival at Destination - Time'] = train_copy['Arrival at Destination - Time'] / pd.offsets.Minute(60)\n",
    "train_copy['Pickup - Time'] = pd.to_timedelta(train_copy['Pickup - Time'])\n",
    "train_copy['Pickup - Time'] = train_copy['Pickup - Time'] / pd.offsets.Minute(60)\n",
    "train_copy['Arrival at Pickup - Time'] = pd.to_timedelta(train_copy['Arrival at Pickup - Time'])\n",
    "train_copy['Arrival at Pickup - Time'] = train_copy['Arrival at Pickup - Time'] / pd.offsets.Minute(60)\n",
    "test_copy['Arrival at Pickup - Time'] = pd.to_timedelta(test_copy['Arrival at Pickup - Time'])\n",
    "test_copy['Arrival at Pickup - Time'] = test_copy['Arrival at Pickup - Time'] / pd.offsets.Minute(60)\n",
    "test_copy['Placement - Time'] = pd.to_timedelta(test_copy['Placement - Time'])\n",
    "test_copy['Placement - Time'] = test_copy['Placement - Time'] / pd.offsets.Minute(60)\n",
    "test_copy['Confirmation - Time'] = pd.to_timedelta(test_copy['Confirmation - Time'])\n",
    "test_copy['Confirmation - Time'] = test_copy['Confirmation - Time'] / pd.offsets.Minute(60)\n",
    "test_copy['Pickup - Time'] = pd.to_timedelta(test_copy['Pickup - Time'])\n",
    "test_copy['Pickup - Time'] = test_copy['Pickup - Time'] / pd.offsets.Minute(60)"
   ]
  },
  {
   "cell_type": "code",
   "execution_count": 12,
   "metadata": {},
   "outputs": [],
   "source": [
    "train_copy['Platform Type'] = train_copy['Platform Type'].replace([1, 2, 3, 4], ['Type_1', 'Type_2', 'Type_3', 'Type_4'])\n",
    "test_copy['Platform Type'] = test_copy['Platform Type'].replace([1, 2, 3, 4], ['Type_1', 'Type_2', 'Type_3', 'Type_4'])"
   ]
  },
  {
   "cell_type": "code",
   "execution_count": 13,
   "metadata": {},
   "outputs": [],
   "source": [
    "traindata = pd.get_dummies(train_copy, drop_first=True)\n",
    "testdata = pd.get_dummies(test_copy, drop_first=True)"
   ]
  },
  {
   "cell_type": "code",
   "execution_count": 14,
   "metadata": {},
   "outputs": [],
   "source": [
    "column_titles = [col for col in traindata.columns if col!= 'Time from Pickup to Arrival'] + ['Time from Pickup to Arrival']\n",
    "traindata=traindata.reindex(columns=column_titles)"
   ]
  },
  {
   "cell_type": "code",
   "execution_count": null,
   "metadata": {},
   "outputs": [],
   "source": []
  }
 ],
 "metadata": {
  "kernelspec": {
   "display_name": "Python 3",
   "language": "python",
   "name": "python3"
  },
  "language_info": {
   "codemirror_mode": {
    "name": "ipython",
    "version": 3
   },
   "file_extension": ".py",
   "mimetype": "text/x-python",
   "name": "python",
   "nbconvert_exporter": "python",
   "pygments_lexer": "ipython3",
   "version": "3.7.6-final"
  }
 },
 "nbformat": 4,
 "nbformat_minor": 2
}